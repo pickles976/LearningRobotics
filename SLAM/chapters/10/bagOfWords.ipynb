{
 "cells": [
  {
   "cell_type": "code",
   "execution_count": null,
   "metadata": {},
   "outputs": [],
   "source": [
    "import cv2\n",
    "import numpy as np\n",
    "import os"
   ]
  },
  {
   "cell_type": "code",
   "execution_count": null,
   "metadata": {},
   "outputs": [],
   "source": [
    "## Load images\n",
    "dir = \"data\"\n",
    "imgs = []\n",
    "\n",
    "for fname in os.listdir(dir):\n",
    "    imgs.append(cv2.imread(fname))\n",
    "\n",
    "## Detect keypoints and compute their descriptors in a single step\n",
    "keypoints = [] \n",
    "descriptors = [] # for the dictionary, we only need descriptors\n",
    "\n",
    "orb = cv2.ORB_create()\n",
    "\n",
    "for img in imgs:\n",
    "    kps, descs = orb.detectAndCompute(img, None)\n",
    "    keypoints.append(kps)\n",
    "    descriptors.append(descs)\n",
    "\n"
   ]
  },
  {
   "cell_type": "code",
   "execution_count": null,
   "metadata": {},
   "outputs": [],
   "source": [
    "## Create vocabulary from descriptors\n",
    "import pyDBoW3 as bow\n",
    "\n",
    "voc = bow.Vocabulary()"
   ]
  }
 ],
 "metadata": {
  "language_info": {
   "name": "python"
  },
  "orig_nbformat": 4
 },
 "nbformat": 4,
 "nbformat_minor": 2
}
