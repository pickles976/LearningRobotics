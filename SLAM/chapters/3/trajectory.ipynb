{
 "cells": [
  {
   "cell_type": "code",
   "execution_count": 50,
   "metadata": {},
   "outputs": [
    {
     "name": "stdout",
     "output_type": "stream",
     "text": [
      "Loaded trajectories.\n"
     ]
    }
   ],
   "source": [
    "import symforce\n",
    "\n",
    "symforce.set_symbolic_api(\"sympy\")\n",
    "symforce.set_log_level(\"warning\")\n",
    "\n",
    "from symforce.notebook_util import display\n",
    "import symforce.symbolic as sf\n",
    "\n",
    "def readTrajectory(path):\n",
    "\n",
    "    trajectory = []\n",
    "\n",
    "    with open(path) as f:\n",
    "        for line in f:\n",
    "            components = line.split(\" \")\n",
    "            time, tx, ty, tz, qx, qy, qz, qw = map(lambda x: float(x), components)\n",
    "            rot = sf.Rot3(sf.Quaternion(sf.V3(qx, qy, qz), qw))\n",
    "            trans = sf.V3(tx,ty,tz)\n",
    "            p = sf.Pose3(R = rot, t= trans)\n",
    "            trajectory.append(p)\n",
    "\n",
    "    return trajectory\n",
    "            \n",
    "trajectory = readTrajectory('./trajectory.txt')\n",
    "estimated = readTrajectory('./estimated.txt')\n",
    "groundtruth = readTrajectory('./groundtruth.txt')\n",
    "\n",
    "print(\"Loaded trajectories.\")"
   ]
  },
  {
   "cell_type": "code",
   "execution_count": 53,
   "metadata": {},
   "outputs": [
    {
     "name": "stdout",
     "output_type": "stream",
     "text": [
      "RMSE: 2.1929347657113603\n"
     ]
    }
   ],
   "source": [
    "# compute RMSE\n",
    "from math import sqrt\n",
    "rmse = 0\n",
    "\n",
    "for i in range(len(estimated)):\n",
    "    p1, p2 = estimated[i], groundtruth[i]\n",
    "    error = sf.V6((p2.inverse() * p1).to_tangent()).norm()\n",
    "    rmse += error ** 2\n",
    "\n",
    "rmse /= len(trajectory)\n",
    "rmse = sqrt(rmse)\n",
    "\n",
    "print(\"RMSE: %s\"%rmse)"
   ]
  },
  {
   "cell_type": "code",
   "execution_count": 54,
   "metadata": {},
   "outputs": [
    {
     "name": "stdout",
     "output_type": "stream",
     "text": [
      "Jupyter environment detected. Enabling Open3D WebVisualizer.\n",
      "[Open3D INFO] WebRTC GUI backend enabled.\n",
      "[Open3D INFO] WebRTCWindowSystem: HTTP handshake server disabled.\n"
     ]
    }
   ],
   "source": [
    "import open3d as o3d\n",
    "\n",
    "def gen_line_set(trajectory, plotFrames=True, traj_color=[0, 0, 0]):\n",
    "    \"\"\"Returns line_set\"\"\"\n",
    "    index = 0\n",
    "    points = []\n",
    "    lines = []\n",
    "    colors = []\n",
    "    for traj in trajectory:\n",
    "        length = 0.1\n",
    "        Ow = traj.t\n",
    "        Xw = traj * (length*sf.V3(1, 0, 0))\n",
    "        Yw = traj * (length*sf.V3(0, 1, 0))\n",
    "        Zw = traj * (length*sf.V3(0, 0, 1))\n",
    "        points.append(Ow.to_flat_list())\n",
    "        points.append(Xw.to_flat_list())\n",
    "        points.append(Yw.to_flat_list())\n",
    "        points.append(Zw.to_flat_list())\n",
    "\n",
    "        if plotFrames:\n",
    "            lines.append([index, index + 1])\n",
    "            lines.append([index, index + 2])\n",
    "            lines.append([index, index + 3])\n",
    "\n",
    "            colors.append([1, 0, 0])\n",
    "            colors.append([0, 1, 0])\n",
    "            colors.append([0, 0, 1])\n",
    "\n",
    "        index = index + 4\n",
    "\n",
    "    index = 0\n",
    "    for traj in trajectory:\n",
    "        if index == 0:\n",
    "            pass\n",
    "        else:\n",
    "            lines.append([index, index - 4])\n",
    "            colors.append(traj_color)\n",
    "        index = index + 4\n",
    "\n",
    "    line_set = o3d.geometry.LineSet(\n",
    "        points=o3d.utility.Vector3dVector(points),\n",
    "        lines=o3d.utility.Vector2iVector(lines),\n",
    "    )\n",
    "    line_set.colors = o3d.utility.Vector3dVector(colors)\n",
    "    return line_set\n",
    "\n",
    "line_set1 = gen_line_set(estimated, False, [0, 0, 1])  # blue\n",
    "line_set2 = gen_line_set(groundtruth, False, [1, 0, 0])  # red\n",
    "vis = o3d.visualization.Visualizer()\n",
    "vis.create_window()\n",
    "vis.add_geometry(line_set1)\n",
    "vis.add_geometry(line_set2)\n",
    "vis.add_geometry(o3d.geometry.TriangleMesh.create_coordinate_frame(size=.2))\n",
    "while(True):\n",
    "    if not vis.poll_events():\n",
    "        break\n",
    "    vis.update_renderer()\n",
    "vis.destroy_window()\n"
   ]
  }
 ],
 "metadata": {
  "language_info": {
   "name": "python"
  },
  "orig_nbformat": 4
 },
 "nbformat": 4,
 "nbformat_minor": 2
}
