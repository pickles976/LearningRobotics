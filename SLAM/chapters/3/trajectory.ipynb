{
 "cells": [
  {
   "cell_type": "code",
   "execution_count": null,
   "metadata": {},
   "outputs": [],
   "source": [
    "def readTrajectory(path):\n",
    "    with open(path) as f:\n",
    "        for line in f:\n",
    "            components = f.split(\" \")\n",
    "            time, tx, ty, tz, qx, qy, qz, qw = components"
   ]
  }
 ],
 "metadata": {
  "language_info": {
   "name": "python"
  },
  "orig_nbformat": 4
 },
 "nbformat": 4,
 "nbformat_minor": 2
}
