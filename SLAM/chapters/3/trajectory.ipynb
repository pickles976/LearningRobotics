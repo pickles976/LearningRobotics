{
 "cells": [
  {
   "cell_type": "code",
   "execution_count": 18,
   "metadata": {},
   "outputs": [
    {
     "name": "stdout",
     "output_type": "stream",
     "text": [
      "Loaded trajectories.\n"
     ]
    }
   ],
   "source": [
    "import symforce\n",
    "\n",
    "symforce.set_symbolic_api(\"sympy\")\n",
    "symforce.set_log_level(\"warning\")\n",
    "\n",
    "from symforce.notebook_util import display\n",
    "import symforce.symbolic as sf\n",
    "\n",
    "def readTrajectory(path):\n",
    "\n",
    "    trajectory = []\n",
    "\n",
    "    with open(path) as f:\n",
    "        for line in f:\n",
    "            components = line.split(\" \")\n",
    "            time, tx, ty, tz, qx, qy, qz, qw = map(lambda x: float(x), components)\n",
    "            rot = sf.Rot3(sf.Quaternion([qx,qy,qz], qw))\n",
    "            trans = sf.V3(tx,ty,tz)\n",
    "            p = sf.Pose3(rot, trans)\n",
    "            trajectory.append(p)\n",
    "\n",
    "    return trajectory\n",
    "            \n",
    "trajectory = readTrajectory('./trajectory.txt')\n",
    "estimated = readTrajectory('./estimated.txt')\n",
    "groundtruth = readTrajectory('./groundtruth.txt')\n",
    "\n",
    "print(\"Loaded trajectories.\")"
   ]
  },
  {
   "cell_type": "code",
   "execution_count": null,
   "metadata": {},
   "outputs": [],
   "source": []
  }
 ],
 "metadata": {
  "interpreter": {
   "hash": "916dbcbb3f70747c44a77c7bcd40155683ae19c65e1c03b4aa3499c5328201f1"
  },
  "kernelspec": {
   "display_name": "Python 3.8.10 64-bit",
   "language": "python",
   "name": "python3"
  },
  "language_info": {
   "codemirror_mode": {
    "name": "ipython",
    "version": 3
   },
   "file_extension": ".py",
   "mimetype": "text/x-python",
   "name": "python",
   "nbconvert_exporter": "python",
   "pygments_lexer": "ipython3",
   "version": "3.8.10"
  },
  "orig_nbformat": 4
 },
 "nbformat": 4,
 "nbformat_minor": 2
}
