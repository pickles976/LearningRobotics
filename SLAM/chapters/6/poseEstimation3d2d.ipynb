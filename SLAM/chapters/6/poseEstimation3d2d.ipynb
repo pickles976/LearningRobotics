{
 "cells": [
  {
   "cell_type": "code",
   "execution_count": null,
   "metadata": {},
   "outputs": [],
   "source": [
    "https://github.com/sudo-robot-destroy/slambook_python/blob/master/ch6/pose_estimation_3d2d.ipynb\n",
    "\n",
    "implement this"
   ]
  }
 ],
 "metadata": {
  "language_info": {
   "name": "python"
  },
  "orig_nbformat": 4
 },
 "nbformat": 4,
 "nbformat_minor": 2
}
