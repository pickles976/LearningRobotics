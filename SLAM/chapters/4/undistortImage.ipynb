{
 "cells": [
  {
   "cell_type": "code",
   "execution_count": 1,
   "metadata": {},
   "outputs": [],
   "source": [
    "import cv2\n",
    "from math import sqrt\n",
    "\n",
    "fname = \"distorted.png\"\n",
    "\n",
    "image = cv2.imread(fname, cv2.IMREAD_GRAYSCALE)\n",
    "\n",
    "assert image is not None, \"file could not be read, check with os.path.exists()\""
   ]
  },
  {
   "cell_type": "code",
   "execution_count": 2,
   "metadata": {},
   "outputs": [],
   "source": [
    "## Load camera parameters\n",
    "\n",
    "# distortion coefficients\n",
    "k1 = -0.28340811\n",
    "k2 = 0.07395907\n",
    "p1 = 0.00019359\n",
    "p2 = 1.76187114e-5\n",
    "\n",
    "# intrinsic params\n",
    "fx = 458.654\n",
    "fy = 457.296\n",
    "cx = 367.215\n",
    "cy = 248.375"
   ]
  },
  {
   "cell_type": "code",
   "execution_count": 5,
   "metadata": {},
   "outputs": [],
   "source": [
    "rows, cols = image.shape\n",
    "image_undistort = image.copy()"
   ]
  },
  {
   "cell_type": "code",
   "execution_count": 7,
   "metadata": {},
   "outputs": [],
   "source": [
    "for v in range(rows):\n",
    "    for u in range(cols):\n",
    "        # note we are computing the pixel of (u,v) in the undistorted image\n",
    "        # according to the rad−tan model, compute the coordinates in the distorted image\n",
    "        x = (u - cx) / fx\n",
    "        y = (v - cy) / fy\n",
    "        r = sqrt(x * x + y * y);\n",
    "        x_distorted = x * (1 + k1 * r * r + k2 * r * r * r * r) + 2 * p1 * x * y + p2 * (r * r + 2 * x * x)\n",
    "        y_distorted = y * (1 + k1 * r * r + k2 * r * r * r * r) + p1 * (r *r + 2 * y * y) + 2 * p2 * x * y\n",
    "        u_distorted = fx * x_distorted + cx\n",
    "        v_distorted = fy * y_distorted + cy\n",
    "\n",
    "        # check if the pixel is in the image boarder\n",
    "        if (u_distorted >= 0 and v_distorted >= 0 and u_distorted < cols and v_distorted < rows):\n",
    "            image_undistort.itemset((v, u), image.item(int(v_distorted), int(u_distorted)))\n",
    "        else:\n",
    "            image_undistort.itemset((v, u), 0)\n",
    "\n",
    "cv2.imshow('distorted', image)\n",
    "cv2.waitKey(0)\n",
    "\n",
    "cv2.imshow('undistorted', image_undistort)\n",
    "cv2.waitKey(0)\n",
    "  \n",
    "# closing all open windows\n",
    "cv2.destroyAllWindows()"
   ]
  }
 ],
 "metadata": {
  "interpreter": {
   "hash": "916dbcbb3f70747c44a77c7bcd40155683ae19c65e1c03b4aa3499c5328201f1"
  },
  "kernelspec": {
   "display_name": "Python 3.8.10 64-bit",
   "language": "python",
   "name": "python3"
  },
  "language_info": {
   "codemirror_mode": {
    "name": "ipython",
    "version": 3
   },
   "file_extension": ".py",
   "mimetype": "text/x-python",
   "name": "python",
   "nbconvert_exporter": "python",
   "pygments_lexer": "ipython3",
   "version": "3.8.10"
  },
  "orig_nbformat": 4
 },
 "nbformat": 4,
 "nbformat_minor": 2
}
