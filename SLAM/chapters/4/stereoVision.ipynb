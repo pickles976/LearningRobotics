{
 "cells": [
  {
   "cell_type": "code",
   "execution_count": 10,
   "metadata": {},
   "outputs": [],
   "source": [
    "import cv2\n",
    "import numpy as np\n",
    "from open3d import *"
   ]
  },
  {
   "cell_type": "code",
   "execution_count": 16,
   "metadata": {},
   "outputs": [],
   "source": [
    "# intrinsics\n",
    "fx = 718.856\n",
    "fy = 718.856\n",
    "cx = 607.1928\n",
    "cy = 185.2157\n",
    "\n",
    "# baseline\n",
    "b = 0.573\n",
    "\n",
    "left = cv2.imread('left.png', cv2.IMREAD_GRAYSCALE)\n",
    "right = cv2.imread('right.png', cv2.IMREAD_GRAYSCALE)\n",
    "\n",
    "sgbm = cv2.StereoSGBM_create(0, 96, 9, 8*9*9, 32*9*9, 1, 63, 10, 100, 32)\n",
    "disparity = sgbm.compute(left, right)\n",
    "disparity = disparity.astype(np.float32) / 16.0\n",
    "\n",
    "pointcloud = []\n",
    "\n",
    "rows, cols = left.shape\n",
    "\n",
    "for v in range(left.shape[0]):\n",
    "    for u in range(left.shape[1]):\n",
    "        if not(disparity.item(v, u) <= 10.0 or disparity.item(v, u) >= 96.0):\n",
    "            x = (u - cx) / fx\n",
    "            y = (v - cy) / fy\n",
    "            depth = fx * b / (disparity.item(v, u))\n",
    "            point = np.array([x*depth, y*depth, depth, left.item(v, u)/255.0])      \n",
    "            pointcloud.append(point);"
   ]
  },
  {
   "cell_type": "code",
   "execution_count": 17,
   "metadata": {},
   "outputs": [],
   "source": [
    "cv2.imshow(\"left\", left)\n",
    "cv2.waitKey(0)\n",
    "\n",
    "cv2.imshow('disparity', disparity / 96.0)\n",
    "cv2.waitKey(0)\n",
    "  \n",
    "# closing all open windows\n",
    "cv2.destroyAllWindows()"
   ]
  },
  {
   "cell_type": "code",
   "execution_count": 18,
   "metadata": {},
   "outputs": [],
   "source": [
    "points = []\n",
    "colors = []\n",
    "for point in pointcloud:\n",
    "    points.append(point[:3])\n",
    "    colors.append([point[3]]*3)\n",
    "pcd = geometry.PointCloud()\n",
    "pcd.points = utility.Vector3dVector(points)\n",
    "pcd.colors = utility.Vector3dVector(colors)\n",
    "visualization.draw_geometries([pcd])"
   ]
  }
 ],
 "metadata": {
  "interpreter": {
   "hash": "916dbcbb3f70747c44a77c7bcd40155683ae19c65e1c03b4aa3499c5328201f1"
  },
  "kernelspec": {
   "display_name": "Python 3.8.10 64-bit",
   "language": "python",
   "name": "python3"
  },
  "language_info": {
   "codemirror_mode": {
    "name": "ipython",
    "version": 3
   },
   "file_extension": ".py",
   "mimetype": "text/x-python",
   "name": "python",
   "nbconvert_exporter": "python",
   "pygments_lexer": "ipython3",
   "version": "3.8.10"
  },
  "orig_nbformat": 4
 },
 "nbformat": 4,
 "nbformat_minor": 2
}
