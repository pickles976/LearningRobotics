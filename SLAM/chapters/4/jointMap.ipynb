{
 "cells": [
  {
   "cell_type": "code",
   "execution_count": 6,
   "metadata": {},
   "outputs": [],
   "source": [
    "import cv2\n",
    "import symforce\n",
    "\n",
    "symforce.set_symbolic_api(\"sympy\")\n",
    "symforce.set_log_level(\"warning\")\n",
    "\n",
    "from symforce.notebook_util import display\n",
    "import symforce.symbolic as sf\n",
    "\n",
    "colorImgs = []\n",
    "depthImgs = []\n",
    "poses = []\n",
    "\n",
    "# Load images\n",
    "for i in range(5):\n",
    "    colorImgs.append(cv2.imread(\"color%s.png\"))\n",
    "    colorImgs.append(cv2.imread(\"depth%s.png\", -1))\n",
    "\n",
    "# Load poses\n",
    "with open(\"poses.txt\", 'r') as f:\n",
    "    for line in f:\n",
    "        data = line.split(\" \")\n",
    "        data = list(map(lambda x: float(x), data))\n",
    "        t = sf.V3(data[0], data[1], data[2])\n",
    "        R = sf.Rot3(sf.Quaternion(sf.V3(data[3], data[4], data[5]), data[6]))\n",
    "        pose = sf.Pose3(R=R, t=t)\n",
    "        poses.append(pose)\n",
    "\n",
    "# poses"
   ]
  },
  {
   "cell_type": "code",
   "execution_count": null,
   "metadata": {},
   "outputs": [],
   "source": []
  }
 ],
 "metadata": {
  "interpreter": {
   "hash": "916dbcbb3f70747c44a77c7bcd40155683ae19c65e1c03b4aa3499c5328201f1"
  },
  "kernelspec": {
   "display_name": "Python 3.8.10 64-bit",
   "language": "python",
   "name": "python3"
  },
  "language_info": {
   "codemirror_mode": {
    "name": "ipython",
    "version": 3
   },
   "file_extension": ".py",
   "mimetype": "text/x-python",
   "name": "python",
   "nbconvert_exporter": "python",
   "pygments_lexer": "ipython3",
   "version": "3.8.10"
  },
  "orig_nbformat": 4
 },
 "nbformat": 4,
 "nbformat_minor": 2
}
