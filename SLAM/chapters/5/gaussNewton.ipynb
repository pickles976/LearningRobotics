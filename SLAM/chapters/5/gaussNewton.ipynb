{
 "cells": [
  {
   "cell_type": "code",
   "execution_count": 1,
   "metadata": {},
   "outputs": [],
   "source": [
    "import random\n",
    "from math import exp\n",
    "import numpy as np\n",
    "from scipy import linalg"
   ]
  },
  {
   "cell_type": "code",
   "execution_count": 4,
   "metadata": {},
   "outputs": [],
   "source": [
    "# ground truth coefficients\n",
    "ar = 1.0\n",
    "br = 2.0\n",
    "cr = 1.0\n",
    "\n",
    "# initial estimates\n",
    "ae = 2.0\n",
    "be = -1.0\n",
    "ce = 5.0\n",
    "\n",
    "# number of data points\n",
    "N = 100\n",
    "\n",
    "w_sigma = 1.0 # noise sigma\n",
    "inv_sigma = 1.0 # w_sigma\n",
    "sig_sq = inv_sigma ** 2\n",
    "\n",
    "# create data\n",
    "x_data, y_data = [], []\n",
    "for i in range(N):\n",
    "    x = i / 100.0\n",
    "    x_data.append(x)\n",
    "    y_data.append(exp(ar * x ** 2 + br * x + cr) + random.gauss(0, w_sigma ** 2))"
   ]
  },
  {
   "cell_type": "code",
   "execution_count": 8,
   "metadata": {},
   "outputs": [
    {
     "name": "stdout",
     "output_type": "stream",
     "text": [
      "total cost: 376838.50239804015\n",
      "update: [[ 0.06477802  0.22069698 -0.95919334]]\n",
      "estimated params: [2.10910967], [-0.70204471], [3.05666914]\n",
      "Cost: 35629.477431077146 last cost: 376838.50239804015, iter: 1, break.\n",
      "estimated abc = [2.10910967], [-0.70204471], [3.05666914]\n"
     ]
    }
   ],
   "source": [
    "# Start Gauss-Newton iterations\n",
    "iterations = 100\n",
    "cost = 0\n",
    "lastCost = 0\n",
    "\n",
    "for iters in range(iterations):\n",
    "    H = np.zeros((3, 3))  # Hessian = J^T W^-1 J in Gauss-Newton\n",
    "    b = np.zeros((3, 1))\n",
    "    cost = 0\n",
    "\n",
    "    for i in range(N):\n",
    "        xi = x_data[i]\n",
    "        yi = y_data[i]\n",
    "\n",
    "        fun = exp((ae * xi ** 2) + (be * xi) + ce) # function, repeated b/c of chain rule, DRY\n",
    "        error = yi - fun\n",
    "        deda = -xi * xi * fun\n",
    "        dedb = -xi * fun\n",
    "        dedc = -fun\n",
    "        J = np.array([deda, dedb, dedc], dtype = np.float32).reshape((3,1))\n",
    "\n",
    "        H += sig_sq * J * J.T\n",
    "        b += -sig_sq * error * J\n",
    "\n",
    "        cost += error ** 2\n",
    "\n",
    "    # Solve\n",
    "\n",
    "    dx = linalg.solve(H, b, assume_a='sym')\n",
    "\n",
    "    if dx[0] is np.NAN:\n",
    "        print(\"Result is NaN!\")\n",
    "        break\n",
    "\n",
    "    if iters > 0 and cost < lastCost:\n",
    "        print(f\"Cost: {cost} last cost: {lastCost}, iter: {iters}, break.\")\n",
    "        break\n",
    "\n",
    "\n",
    "    ae += dx[0]\n",
    "    be += dx[1]\n",
    "    ce += dx[2]\n",
    "\n",
    "    lastCost = cost\n",
    "\n",
    "    print(f\"total cost: {cost}\\nupdate: {dx.transpose()}\\n\"\n",
    "            f\"estimated params: {ae}, {be}, {ce}\")\n",
    "print(f\"estimated abc = {ae}, {be}, {ce}\")"
   ]
  }
 ],
 "metadata": {
  "interpreter": {
   "hash": "916dbcbb3f70747c44a77c7bcd40155683ae19c65e1c03b4aa3499c5328201f1"
  },
  "kernelspec": {
   "display_name": "Python 3.8.10 64-bit",
   "language": "python",
   "name": "python3"
  },
  "language_info": {
   "codemirror_mode": {
    "name": "ipython",
    "version": 3
   },
   "file_extension": ".py",
   "mimetype": "text/x-python",
   "name": "python",
   "nbconvert_exporter": "python",
   "pygments_lexer": "ipython3",
   "version": "3.8.10"
  },
  "orig_nbformat": 4
 },
 "nbformat": 4,
 "nbformat_minor": 2
}
