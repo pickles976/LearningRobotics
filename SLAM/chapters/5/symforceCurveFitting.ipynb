{
 "cells": [
  {
   "cell_type": "code",
   "execution_count": 1,
   "metadata": {},
   "outputs": [],
   "source": [
    "import symforce\n",
    "symforce.set_epsilon_to_symbol()\n",
    "from symforce.values import Values\n",
    "import numpy as np\n",
    "import cv2 as cv\n",
    "import symforce.symbolic as sf\n",
    "from symforce.opt.factor import Factor\n",
    "from symforce.opt.optimizer import Optimizer"
   ]
  },
  {
   "cell_type": "code",
   "execution_count": 2,
   "metadata": {},
   "outputs": [],
   "source": [
    "# ground truth coefficients\n",
    "ar = 1.0\n",
    "br = 2.0\n",
    "cr = 1.0\n",
    "\n",
    "# initial estimates\n",
    "ae = 2.0\n",
    "be = -1.0\n",
    "ce = 5.0\n",
    "\n",
    "# number of data points\n",
    "N = 100\n",
    "\n",
    "w_sigma = 1.0 # noise sigma\n",
    "inv_sigma = 1.0 / w_sigma\n",
    "\n",
    "rng = np.random.default_rng()\n",
    "\n",
    "x_data = np.linspace(0, 1, N)\n",
    "y_data = np.exp(ar * x_data * x_data + br * x_data + cr) + rng.normal(0, w_sigma, N)"
   ]
  },
  {
   "cell_type": "code",
   "execution_count": 3,
   "metadata": {},
   "outputs": [],
   "source": [
    "def error(abc: sf.V3, x: sf.Scalar, y: sf.Scalar) -> sf.V1:\n",
    "    return sf.V1(y - sf.exp(abc[0]*x*x + abc[1]*x + abc[2]))"
   ]
  },
  {
   "cell_type": "code",
   "execution_count": 4,
   "metadata": {},
   "outputs": [],
   "source": [
    "initial_values = Values(\n",
    "    abc = sf.V3([ae, be, ce]),\n",
    "    xdata = x_data.tolist(),\n",
    "    ydata = y_data.tolist(),\n",
    "    epsilon = sf.numeric_epsilon,\n",
    ")"
   ]
  },
  {
   "cell_type": "code",
   "execution_count": 5,
   "metadata": {},
   "outputs": [],
   "source": [
    "factors = []\n",
    "for i in range(len(x_data)):\n",
    "    factors.append(Factor(\n",
    "        residual=error,\n",
    "        keys=[\"abc\", f\"xdata[{i}]\", f\"ydata[{i}]\"],\n",
    "    ))"
   ]
  },
  {
   "cell_type": "code",
   "execution_count": 6,
   "metadata": {},
   "outputs": [
    {
     "ename": "RuntimeError",
     "evalue": "SYM_ASSERT: linearized_factor->index.tangent_dim == linearized_factor->jacobian.cols()\n    --> void sym::Factor<ScalarType>::Linearize(const sym::Values<Scalar>&, sym::Factor<ScalarType>::LinearizedDenseFactor*, const std::vector<sym::index_entry_t>*) const [with ScalarType = double; sym::Factor<ScalarType>::LinearizedDenseFactor = sym::linearized_dense_factor_t]\n    --> /project/symforce/opt/factor.cc:102\n",
     "output_type": "error",
     "traceback": [
      "\u001b[0;31m---------------------------------------------------------------------------\u001b[0m",
      "\u001b[0;31mRuntimeError\u001b[0m                              Traceback (most recent call last)",
      "Cell \u001b[0;32mIn[6], line 7\u001b[0m\n\u001b[1;32m      1\u001b[0m optimizer \u001b[38;5;241m=\u001b[39m Optimizer(\n\u001b[1;32m      2\u001b[0m     factors\u001b[38;5;241m=\u001b[39mfactors,\n\u001b[1;32m      3\u001b[0m     optimized_keys\u001b[38;5;241m=\u001b[39m[\u001b[38;5;124m\"\u001b[39m\u001b[38;5;124mabc\u001b[39m\u001b[38;5;124m\"\u001b[39m],\n\u001b[1;32m      4\u001b[0m     debug_stats\u001b[38;5;241m=\u001b[39m\u001b[38;5;28;01mTrue\u001b[39;00m,\n\u001b[1;32m      5\u001b[0m     params\u001b[38;5;241m=\u001b[39mOptimizer\u001b[38;5;241m.\u001b[39mParams(iterations\u001b[38;5;241m=\u001b[39m\u001b[38;5;241m1000\u001b[39m)\n\u001b[1;32m      6\u001b[0m )\n\u001b[0;32m----> 7\u001b[0m result \u001b[38;5;241m=\u001b[39m \u001b[43moptimizer\u001b[49m\u001b[38;5;241;43m.\u001b[39;49m\u001b[43moptimize\u001b[49m\u001b[43m(\u001b[49m\u001b[43minitial_values\u001b[49m\u001b[43m)\u001b[49m\n\u001b[1;32m      8\u001b[0m result\u001b[38;5;241m.\u001b[39moptimized_values\u001b[38;5;241m.\u001b[39mget(\u001b[38;5;124m'\u001b[39m\u001b[38;5;124mabc\u001b[39m\u001b[38;5;124m'\u001b[39m)\n",
      "File \u001b[0;32m~/.local/lib/python3.8/site-packages/symforce/opt/optimizer.py:250\u001b[0m, in \u001b[0;36mOptimizer.optimize\u001b[0;34m(self, initial_guess)\u001b[0m\n\u001b[1;32m    247\u001b[0m cc_values \u001b[38;5;241m=\u001b[39m \u001b[38;5;28mself\u001b[39m\u001b[38;5;241m.\u001b[39m_cc_values(initial_guess)\n\u001b[1;32m    249\u001b[0m \u001b[38;5;28;01mtry\u001b[39;00m:\n\u001b[0;32m--> 250\u001b[0m     stats \u001b[38;5;241m=\u001b[39m \u001b[38;5;28;43mself\u001b[39;49m\u001b[38;5;241;43m.\u001b[39;49m\u001b[43m_cc_optimizer\u001b[49m\u001b[38;5;241;43m.\u001b[39;49m\u001b[43moptimize\u001b[49m\u001b[43m(\u001b[49m\u001b[43mcc_values\u001b[49m\u001b[43m)\u001b[49m\n\u001b[1;32m    251\u001b[0m \u001b[38;5;28;01mexcept\u001b[39;00m \u001b[38;5;167;01mZeroDivisionError\u001b[39;00m \u001b[38;5;28;01mas\u001b[39;00m ex:\n\u001b[1;32m    252\u001b[0m     \u001b[38;5;28;01mraise\u001b[39;00m \u001b[38;5;167;01mZeroDivisionError\u001b[39;00m(\u001b[38;5;124m\"\u001b[39m\u001b[38;5;124mERROR: Division by zero - check your use of epsilon!\u001b[39m\u001b[38;5;124m\"\u001b[39m) \u001b[38;5;28;01mfrom\u001b[39;00m \u001b[38;5;21;01mex\u001b[39;00m\n",
      "\u001b[0;31mRuntimeError\u001b[0m: SYM_ASSERT: linearized_factor->index.tangent_dim == linearized_factor->jacobian.cols()\n    --> void sym::Factor<ScalarType>::Linearize(const sym::Values<Scalar>&, sym::Factor<ScalarType>::LinearizedDenseFactor*, const std::vector<sym::index_entry_t>*) const [with ScalarType = double; sym::Factor<ScalarType>::LinearizedDenseFactor = sym::linearized_dense_factor_t]\n    --> /project/symforce/opt/factor.cc:102\n"
     ]
    }
   ],
   "source": [
    "optimizer = Optimizer(\n",
    "    factors=factors,\n",
    "    optimized_keys=[\"abc\"],\n",
    "    debug_stats=True,\n",
    "    params=Optimizer.Params(iterations=1000)\n",
    ")\n",
    "result = optimizer.optimize(initial_values)\n",
    "result.optimized_values.get('abc')"
   ]
  },
  {
   "cell_type": "code",
   "execution_count": null,
   "metadata": {},
   "outputs": [],
   "source": [
    "a, b, c = result.optimized_values.get('abc')\n",
    "y_cal = np.exp(a * x_data * x_data + b * x_data + c)\n",
    "y_gt = np.exp(ar * x_data * x_data + br * x_data + cr)"
   ]
  },
  {
   "cell_type": "code",
   "execution_count": null,
   "metadata": {},
   "outputs": [],
   "source": [
    "import matplotlib.pyplot as plt\n",
    "%matplotlib qt\n",
    "plt.plot(x_data, y_data, '.')\n",
    "plt.plot(x_data, y_cal)\n",
    "plt.plot(x_data, y_gt)\n",
    "plt.show()"
   ]
  }
 ],
 "metadata": {
  "interpreter": {
   "hash": "916dbcbb3f70747c44a77c7bcd40155683ae19c65e1c03b4aa3499c5328201f1"
  },
  "kernelspec": {
   "display_name": "Python 3.8.10 64-bit",
   "language": "python",
   "name": "python3"
  },
  "language_info": {
   "codemirror_mode": {
    "name": "ipython",
    "version": 3
   },
   "file_extension": ".py",
   "mimetype": "text/x-python",
   "name": "python",
   "nbconvert_exporter": "python",
   "pygments_lexer": "ipython3",
   "version": "3.8.10"
  },
  "orig_nbformat": 4
 },
 "nbformat": 4,
 "nbformat_minor": 2
}
