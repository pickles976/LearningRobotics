{
 "cells": [
  {
   "cell_type": "code",
   "execution_count": 1,
   "metadata": {},
   "outputs": [],
   "source": [
    "import symforce.symbolic as sf\n",
    "from symforce.notebook_util import display"
   ]
  },
  {
   "cell_type": "code",
   "execution_count": 7,
   "metadata": {},
   "outputs": [
    {
     "data": {
      "text/plain": [
       "<Pose2 R=<Rot2 <C real=R_re, imag=R_im>>, t=(t0, t1)>"
      ]
     },
     "execution_count": 7,
     "metadata": {},
     "output_type": "execute_result"
    }
   ],
   "source": [
    "pose = sf.Pose2(\n",
    "    t=sf.V2.symbolic(\"t\"),\n",
    "    R=sf.Rot2.symbolic(\"R\")\n",
    ")\n",
    "landmark = sf.V2.symbolic(\"L\")\n",
    "pose"
   ]
  },
  {
   "cell_type": "code",
   "execution_count": 8,
   "metadata": {},
   "outputs": [
    {
     "data": {
      "text/plain": [
       "[L0*R_re + L1*R_im - (t0*R_re + t1*R_im)]\n",
       "[-L0*R_im + L1*R_re - (-t0*R_im + t1*R_re)]"
      ]
     },
     "metadata": {},
     "output_type": "display_data"
    }
   ],
   "source": [
    "landmark_body = pose.inverse() * landmark\n",
    "landmark_body"
   ]
  },
  {
   "cell_type": "code",
   "execution_count": 9,
   "metadata": {},
   "outputs": [
    {
     "data": {
      "text/plain": [
       "[-L0*R_im + L1*R_re + t0*R_im - t1*R_re, -R_re, -R_im]\n",
       "[-L0*R_re - L1*R_im + t0*R_re + t1*R_im, R_im, -R_re]"
      ]
     },
     "metadata": {},
     "output_type": "display_data"
    }
   ],
   "source": [
    "landmark_body.jacobian(pose)"
   ]
  },
  {
   "cell_type": "code",
   "execution_count": 10,
   "metadata": {},
   "outputs": [
    {
     "data": {
      "text/plain": [
       "atan2(-L0*R_im + L1*R_re - (-t0*R_im + t1*R_re), L0*R_re + L1*R_im - (t0*R_re + t1*R_im))"
      ]
     },
     "execution_count": 10,
     "metadata": {},
     "output_type": "execute_result"
    }
   ],
   "source": [
    "# compute bearing angle\n",
    "sf.atan2(landmark_body[1], landmark_body[0])\n"
   ]
  },
  {
   "cell_type": "code",
   "execution_count": 11,
   "metadata": {},
   "outputs": [
    {
     "data": {
      "text/plain": [
       "sqrt(x0**2 + x1**2 + x2**2)"
      ]
     },
     "execution_count": 11,
     "metadata": {},
     "output_type": "execute_result"
    }
   ],
   "source": [
    "# Example of using epsilon to avoid a NaN\n",
    "sf.V3.symbolic(\"x\").norm(epsilon=sf.epsilon())"
   ]
  }
 ],
 "metadata": {
  "interpreter": {
   "hash": "916dbcbb3f70747c44a77c7bcd40155683ae19c65e1c03b4aa3499c5328201f1"
  },
  "kernelspec": {
   "display_name": "Python 3.8.10 64-bit",
   "language": "python",
   "name": "python3"
  },
  "language_info": {
   "codemirror_mode": {
    "name": "ipython",
    "version": 3
   },
   "file_extension": ".py",
   "mimetype": "text/x-python",
   "name": "python",
   "nbconvert_exporter": "python",
   "pygments_lexer": "ipython3",
   "version": "3.8.10"
  },
  "orig_nbformat": 4
 },
 "nbformat": 4,
 "nbformat_minor": 2
}
