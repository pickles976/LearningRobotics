{
 "cells": [
  {
   "cell_type": "code",
   "execution_count": 1,
   "metadata": {},
   "outputs": [],
   "source": [
    "import symforce\n",
    "symforce.set_epsilon_to_symbol()\n",
    "import cv2\n",
    "import numpy as np\n",
    "import time\n",
    "import symforce.symbolic as sf\n",
    "from symforce.opt.factor import Factor\n",
    "from symforce.opt.optimizer import Optimizer\n",
    "from symforce.values import Values"
   ]
  },
  {
   "cell_type": "code",
   "execution_count": 2,
   "metadata": {},
   "outputs": [],
   "source": [
    "def pixel2cam(p, K):\n",
    "    return np.array([(p[0] - K[0, 2]) / K[0, 0],\n",
    "                     (p[1] - K[1, 2]) / K[1, 1]])"
   ]
  },
  {
   "cell_type": "code",
   "execution_count": 3,
   "metadata": {},
   "outputs": [],
   "source": [
    "def findFeatureMatches(img_1, img_2):\n",
    "\n",
    "    # Keypoints and their descriptors\n",
    "    keypoints_1, keypoints_2 = [], []\n",
    "    descriptors_1, descriptors_2 = [], []\n",
    "\n",
    "    orb = cv2.ORB_create()\n",
    "\n",
    "    keypoints_1, descriptors_1 = orb.detectAndCompute(img_1, None)\n",
    "    keypoints_2, descriptors_2 = orb.detectAndCompute(img_2, None)\n",
    "\n",
    "    matcher = cv2.DescriptorMatcher_create(cv2.DESCRIPTOR_MATCHER_BRUTEFORCE_HAMMING)\n",
    "\n",
    "    matches = matcher.match(descriptors_1, descriptors_2)\n",
    "\n",
    "    # Sort and remove outliers\n",
    "    matches = sorted(matches, key = lambda x: x.distance)\n",
    "\n",
    "    min_dist = matches[0].distance\n",
    "    max_dist = matches[len(matches) - 1].distance\n",
    "\n",
    "    print(f\"Min dist: {min_dist}, Max dist: {max_dist}\")\n",
    "\n",
    "    good_matches = []\n",
    "\n",
    "    for i in range(descriptors_1.shape[0]):\n",
    "        if matches[i].distance <= max(2 * min_dist, 30.0):\n",
    "            good_matches.append(matches[i])\n",
    "\n",
    "    return keypoints_1, keypoints_2, good_matches"
   ]
  },
  {
   "cell_type": "code",
   "execution_count": 4,
   "metadata": {},
   "outputs": [
    {
     "name": "stdout",
     "output_type": "stream",
     "text": [
      "Min dist: 4.0, Max dist: 94.0\n",
      "Number of matches: 79\n"
     ]
    }
   ],
   "source": [
    "# load images\n",
    "img_1 = cv2.imread(\"./1.png\")\n",
    "img_2 = cv2.imread(\"./2.png\")\n",
    "keypoints_1, keypoints_2, matches = findFeatureMatches(img_1, img_2)\n",
    "print(f\"Number of matches: {len(matches)}\")\n",
    "\n",
    "d1 = cv2.imread(\"./1_depth.png\", cv2.IMREAD_UNCHANGED)\n",
    "K = np.array([[520.9, 0, 325.1], [0, 521.0, 249.7], [0, 0, 1]])"
   ]
  },
  {
   "cell_type": "code",
   "execution_count": 6,
   "metadata": {},
   "outputs": [
    {
     "name": "stdout",
     "output_type": "stream",
     "text": [
      "3d-2d pairs: 75\n"
     ]
    }
   ],
   "source": [
    "# these have to be Nx3 and Nx2 numpy arrays\n",
    "pts_3d = np.empty((0, 3))\n",
    "pts_2d = np.empty((0, 2))\n",
    "for m in matches:\n",
    "    d = d1[int(keypoints_1[m.queryIdx].pt[1]),\n",
    "           int(keypoints_1[m.queryIdx].pt[0])]\n",
    "    if d == 0:\n",
    "        continue\n",
    "    dd = d/5000.0\n",
    "    p1 = pixel2cam(keypoints_1[m.queryIdx].pt, K)\n",
    "    pts_3d = np.vstack([pts_3d, np.array([p1[0]*dd, p1[1]*dd, dd])])\n",
    "    pts_2d = np.vstack([pts_2d, keypoints_2[m.trainIdx].pt])\n",
    "print(f\"3d-2d pairs: {len(pts_3d)}\")"
   ]
  },
  {
   "cell_type": "code",
   "execution_count": 7,
   "metadata": {},
   "outputs": [
    {
     "name": "stdout",
     "output_type": "stream",
     "text": [
      "Solved pnp in opencv time: 0.4151146411895752\n",
      "R = [[ 0.99790591 -0.0509194   0.03988747]\n",
      " [ 0.04981866  0.99836232  0.02812094]\n",
      " [-0.04125405 -0.02607491  0.99880839]]\n",
      "t = [[-0.12678213]\n",
      " [-0.00843949]\n",
      " [ 0.06034935]]\n"
     ]
    }
   ],
   "source": [
    "t1 = time.time()\n",
    "temp, r, t = cv2.solvePnP(pts_3d, pts_2d, K, np.array([]))\n",
    "R = cv2.Rodrigues(r)[0]\n",
    "t2 = time.time()\n",
    "print(f\"Solved pnp in opencv time: {t2-t1}\")\n",
    "print(f\"R = {R}\")\n",
    "print(f\"t = {t}\")"
   ]
  },
  {
   "cell_type": "code",
   "execution_count": 8,
   "metadata": {},
   "outputs": [],
   "source": [
    "def compute_error(T: sf.Pose3, \n",
    "                 measurement: sf.V2,\n",
    "                 pos: sf.V3,\n",
    "                 K: sf.M33) -> sf.V2:\n",
    "    pos_pixel = K*(T*pos) \n",
    "    pos_pixel = pos_pixel/pos_pixel[2]\n",
    "    return measurement - sf.V2(pos_pixel[0], pos_pixel[1])"
   ]
  },
  {
   "cell_type": "code",
   "execution_count": 9,
   "metadata": {},
   "outputs": [],
   "source": [
    "# Redo K as a Symforce type\n",
    "K = sf.M33([[520.9, 0, 325.1], [0, 521.0, 249.7], [0, 0, 1]])\n",
    "\n",
    "initial_values = Values(\n",
    "    T = sf.Pose3(),\n",
    "    measurements = [sf.V2(x[0], x[1]) for x in pts_2d.tolist()],\n",
    "    points_3d = [sf.V3(x[0], x[1], x[2]) for x in pts_3d.tolist()],\n",
    "    K = K,\n",
    "    epsilon = sf.numeric_epsilon,\n",
    ")\n",
    "\n",
    "\n",
    "factors = []\n",
    "for i in range(len(pts_2d)):\n",
    "    factors.append(Factor(\n",
    "        residual=compute_error,\n",
    "        keys=[\"T\", f\"measurements[{i}]\", f\"points_3d[{i}]\", \"K\"],\n",
    "    ))"
   ]
  },
  {
   "cell_type": "code",
   "execution_count": 10,
   "metadata": {},
   "outputs": [
    {
     "name": "stdout",
     "output_type": "stream",
     "text": [
      "[2023-05-19 10:13:25.664] [info] LM<sym::Optimize> [iter    0] lambda: 1.000e+00, error prev/linear/new: 20258.878/0.000/164.198, rel reduction: 0.99190\n",
      "[2023-05-19 10:13:25.673] [info] LM<sym::Optimize> [iter    1] lambda: 2.500e-01, error prev/linear/new: 164.198/0.000/149.882, rel reduction: 0.08719\n",
      "Symforce solved in 0.10136127471923828 seconds\n",
      "[2023-05-19 10:13:25.679] [info] LM<sym::Optimize> [iter    2] lambda: 6.250e-02, error prev/linear/new: 149.882/0.000/149.882, rel reduction: 0.00000\n"
     ]
    },
    {
     "data": {
      "text/plain": [
       "array([[ 0.99790591, -0.05091941,  0.03988745, -0.1267821 ],\n",
       "       [ 0.04981867,  0.99836232,  0.02812093, -0.00843948],\n",
       "       [-0.04125403, -0.02607491,  0.99880839,  0.06034935],\n",
       "       [ 0.        ,  0.        ,  0.        ,  1.        ]])"
      ]
     },
     "metadata": {},
     "output_type": "display_data"
    }
   ],
   "source": [
    "optimizer = Optimizer(\n",
    "    factors=factors,\n",
    "    optimized_keys=[\"T\"],\n",
    "    debug_stats=True,\n",
    "    params=Optimizer.Params(iterations=1000)\n",
    ")\n",
    "t1 = time.time()\n",
    "result = optimizer.optimize(initial_values)\n",
    "t2 = time.time()\n",
    "print(f\"Symforce solved in {t2-t1} seconds\")\n",
    "pose = result.optimized_values.get('T').to_homogenous_matrix()\n",
    "display(pose)"
   ]
  }
 ],
 "metadata": {
  "interpreter": {
   "hash": "916dbcbb3f70747c44a77c7bcd40155683ae19c65e1c03b4aa3499c5328201f1"
  },
  "kernelspec": {
   "display_name": "Python 3.8.10 64-bit",
   "language": "python",
   "name": "python3"
  },
  "language_info": {
   "codemirror_mode": {
    "name": "ipython",
    "version": 3
   },
   "file_extension": ".py",
   "mimetype": "text/x-python",
   "name": "python",
   "nbconvert_exporter": "python",
   "pygments_lexer": "ipython3",
   "version": "3.8.10"
  },
  "orig_nbformat": 4
 },
 "nbformat": 4,
 "nbformat_minor": 2
}
