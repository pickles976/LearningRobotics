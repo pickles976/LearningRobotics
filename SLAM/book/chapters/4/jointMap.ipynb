{
 "cells": [
  {
   "cell_type": "code",
   "execution_count": 41,
   "metadata": {},
   "outputs": [
    {
     "name": "stdout",
     "output_type": "stream",
     "text": [
      "5\n",
      "5\n"
     ]
    }
   ],
   "source": [
    "import cv2\n",
    "import numpy as np\n",
    "import symforce\n",
    "import open3d as o3d\n",
    "from numba import jit, njit\n",
    "import numba as nb\n",
    "\n",
    "symforce.set_symbolic_api(\"sympy\")\n",
    "symforce.set_log_level(\"warning\")\n",
    "\n",
    "from symforce.notebook_util import display\n",
    "import symforce.symbolic as sf\n",
    "\n",
    "colorImgs = []\n",
    "depthImgs = []\n",
    "poses = []\n",
    "\n",
    "# Load images\n",
    "for i in range(1,6):\n",
    "    colorImgs.append(cv2.imread(\"./color/%s.png\"%i))\n",
    "    depthImgs.append(cv2.imread(\"./depth/%s.pgm\"%i, -1))\n",
    "\n",
    "# poses\n",
    "print(len(colorImgs))\n",
    "print(len(depthImgs))"
   ]
  },
  {
   "cell_type": "code",
   "execution_count": 45,
   "metadata": {},
   "outputs": [
    {
     "name": "stdout",
     "output_type": "stream",
     "text": [
      "5\n"
     ]
    }
   ],
   "source": [
    "def readTrajectory(path):\n",
    "\n",
    "    trajectory = []\n",
    "\n",
    "    with open(path) as f:\n",
    "        for line in f:\n",
    "            components = line.split(\" \")\n",
    "            tx, ty, tz, qx, qy, qz, qw = map(lambda x: float(x), components)\n",
    "            rot = sf.Rot3(sf.Quaternion(sf.V3(qx, qy, qz), qw))\n",
    "            trans = sf.V3(tx,ty,tz)\n",
    "            p = sf.Pose3(R = rot, t= trans)\n",
    "            trajectory.append(p)\n",
    "\n",
    "    return trajectory\n",
    "\n",
    "poses = readTrajectory(\"poses.txt\")\n",
    "print(len(poses))"
   ]
  },
  {
   "cell_type": "code",
   "execution_count": 46,
   "metadata": {},
   "outputs": [],
   "source": [
    "@njit\n",
    "def rangeToCloud(color, depth, T):\n",
    "    cx = 325.5\n",
    "    cy = 253.5\n",
    "    fx = 518.0\n",
    "    fy = 519.0\n",
    "    depthScale = 1000.0\n",
    "    pointcloud = nb.typed.List()\n",
    "    colors = nb.typed.List()\n",
    "    for v in np.arange(0, color.shape[0]):\n",
    "        for u in np.arange(0, color.shape[1]):\n",
    "            d = depth[v, u]/depthScale\n",
    "            if d != 0:  # 0 means no valid value\n",
    "                point = np.array([(u - cx)*d/fx, (v - cy)*d/fy, d, 1])\n",
    "                pointWorld = np.dot(T, point)\n",
    "                pointcloud.append(pointWorld[:3])\n",
    "                colors.append(color[v][u]/255.0)\n",
    "    return pointcloud, colors"
   ]
  },
  {
   "cell_type": "code",
   "execution_count": 47,
   "metadata": {},
   "outputs": [
    {
     "name": "stdout",
     "output_type": "stream",
     "text": [
      "Converting image 1\n",
      "Converting image 2\n",
      "Converting image 3\n",
      "Converting image 4\n",
      "Converting image 5\n"
     ]
    }
   ],
   "source": [
    "Colors = []\n",
    "Points = []\n",
    "for i in range(5):\n",
    "    print(f\"Converting image {i+1}\")\n",
    "    color = colorImgs[i]\n",
    "    depth = depthImgs[i]\n",
    "    T = np.asarray(poses[i].to_homogenous_matrix().to_list()).astype(float)\n",
    "    p, c = rangeToCloud(color, depth, T)\n",
    "    Colors = Colors + np.array(c).tolist()\n",
    "    Points = Points + np.array(p).tolist()\n",
    "\n",
    "pcd = o3d.geometry.PointCloud()\n",
    "pcd.points = o3d.utility.Vector3dVector(Points)\n",
    "pcd.colors = o3d.utility.Vector3dVector(Colors)\n",
    "o3d.visualization.draw_geometries([pcd])"
   ]
  }
 ],
 "metadata": {
  "interpreter": {
   "hash": "916dbcbb3f70747c44a77c7bcd40155683ae19c65e1c03b4aa3499c5328201f1"
  },
  "kernelspec": {
   "display_name": "Python 3.8.10 64-bit",
   "language": "python",
   "name": "python3"
  },
  "language_info": {
   "codemirror_mode": {
    "name": "ipython",
    "version": 3
   },
   "file_extension": ".py",
   "mimetype": "text/x-python",
   "name": "python",
   "nbconvert_exporter": "python",
   "pygments_lexer": "ipython3",
   "version": "3.8.10"
  },
  "orig_nbformat": 4
 },
 "nbformat": 4,
 "nbformat_minor": 2
}
