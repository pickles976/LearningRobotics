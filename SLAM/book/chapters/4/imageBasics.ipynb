{
 "cells": [
  {
   "cell_type": "code",
   "execution_count": 1,
   "metadata": {},
   "outputs": [],
   "source": [
    "import cv2\n",
    "\n",
    "fname = \"amogus.png\"\n",
    "\n",
    "image = cv2.imread(fname)\n",
    "\n",
    "assert image is not None, \"file could not be read, check with os.path.exists()\""
   ]
  },
  {
   "cell_type": "code",
   "execution_count": 4,
   "metadata": {},
   "outputs": [
    {
     "name": "stdout",
     "output_type": "stream",
     "text": [
      "[255 100 255]\n",
      "100\n",
      "100\n",
      "(471, 360, 3)\n",
      "508680\n",
      "uint8\n"
     ]
    }
   ],
   "source": [
    "## Modifying pixel values\n",
    "print(image[0,0])\n",
    "print(image[0,0,1])\n",
    "\n",
    "# faster method\n",
    "print(image.item(0,0,1))\n",
    "\n",
    "# modifying RED value\n",
    "image.itemset((0,0,1),100)\n",
    "image.item(0,0,1)\n",
    "\n",
    "## Accessing properties\n",
    "print(image.shape)\n",
    "print(image.size)\n",
    "print(image.dtype)"
   ]
  },
  {
   "cell_type": "code",
   "execution_count": 7,
   "metadata": {},
   "outputs": [],
   "source": [
    "cv2.imshow('image', image)\n",
    "cv2.waitKey(0)\n",
    "  \n",
    "# closing all open windows\n",
    "cv2.destroyAllWindows()"
   ]
  }
 ],
 "metadata": {
  "interpreter": {
   "hash": "916dbcbb3f70747c44a77c7bcd40155683ae19c65e1c03b4aa3499c5328201f1"
  },
  "kernelspec": {
   "display_name": "Python 3.8.10 64-bit",
   "language": "python",
   "name": "python3"
  },
  "language_info": {
   "codemirror_mode": {
    "name": "ipython",
    "version": 3
   },
   "file_extension": ".py",
   "mimetype": "text/x-python",
   "name": "python",
   "nbconvert_exporter": "python",
   "pygments_lexer": "ipython3",
   "version": "3.8.10"
  },
  "orig_nbformat": 4
 },
 "nbformat": 4,
 "nbformat_minor": 2
}
