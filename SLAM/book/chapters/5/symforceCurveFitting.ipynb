{
 "cells": [
  {
   "cell_type": "code",
   "execution_count": 1,
   "metadata": {},
   "outputs": [],
   "source": [
    "import symforce\n",
    "symforce.set_epsilon_to_symbol() # set epsilon to avoid singularities\n",
    "from symforce.values import Values\n",
    "import numpy as np\n",
    "import cv2 as cv\n",
    "import symforce.symbolic as sf\n",
    "from symforce.opt.factor import Factor\n",
    "from symforce.opt.optimizer import Optimizer"
   ]
  },
  {
   "cell_type": "code",
   "execution_count": 2,
   "metadata": {},
   "outputs": [],
   "source": [
    "# ground truth coefficients\n",
    "ar = 1.0\n",
    "br = 2.0\n",
    "cr = 1.0\n",
    "\n",
    "# initial estimates\n",
    "ae = 2.0\n",
    "be = -1.0\n",
    "ce = 5.0\n",
    "\n",
    "# number of data points\n",
    "N = 100\n",
    "\n",
    "w_sigma = 1.0 # noise sigma\n",
    "inv_sigma = 1.0 / w_sigma\n",
    "\n",
    "rng = np.random.default_rng()\n",
    "\n",
    "x_data = np.linspace(0, 1, N)\n",
    "y_data = np.exp(ar * x_data * x_data + br * x_data + cr) + rng.normal(0, w_sigma, N)"
   ]
  },
  {
   "cell_type": "code",
   "execution_count": 3,
   "metadata": {},
   "outputs": [],
   "source": [
    "def error(abc: sf.V3, x: sf.Scalar, y: sf.Scalar) -> sf.V1:\n",
    "    return sf.V1(y - sf.exp(abc[0]*x*x + abc[1]*x + abc[2]))"
   ]
  },
  {
   "cell_type": "code",
   "execution_count": 4,
   "metadata": {},
   "outputs": [],
   "source": [
    "initial_values = Values(\n",
    "    abc = sf.V3([ae, be, ce]),\n",
    "    xdata = x_data.tolist(),\n",
    "    ydata = y_data.tolist(),\n",
    "    epsilon = sf.numeric_epsilon,\n",
    ")"
   ]
  },
  {
   "cell_type": "code",
   "execution_count": 5,
   "metadata": {},
   "outputs": [],
   "source": [
    "# Each factor is the error between actual and predicted\n",
    "factors = []\n",
    "for i in range(len(x_data)):\n",
    "    factors.append(Factor(\n",
    "        residual=error,\n",
    "        keys=[\"abc\", f\"xdata[{i}]\", f\"ydata[{i}]\"],\n",
    "    ))"
   ]
  },
  {
   "cell_type": "code",
   "execution_count": 6,
   "metadata": {},
   "outputs": [
    {
     "name": "stdout",
     "output_type": "stream",
     "text": [
      "[2023-05-31 16:42:32.637] [info] LM<sym::Optimize> [iter    0] lambda: 1.000e+00, error prev/linear/new: 1644855.468/0.000/193592.062, rel reduction: 0.88230\n",
      "[2023-05-31 16:42:32.642] [info] LM<sym::Optimize> [iter    1] lambda: 2.500e-01, error prev/linear/new: 193592.062/0.000/18234.643, rel reduction: 0.90581\n",
      "[2023-05-31 16:42:32.647] [info] LM<sym::Optimize> [iter    2] lambda: 6.250e-02, error prev/linear/new: 18234.643/0.000/1104.470, rel reduction: 0.93943\n",
      "[2023-05-31 16:42:32.652] [info] LM<sym::Optimize> [iter    3] lambda: 1.562e-02, error prev/linear/new: 1104.470/0.000/83.973, rel reduction: 0.92397\n",
      "[2023-05-31 16:42:32.658] [info] LM<sym::Optimize> [iter    4] lambda: 3.906e-03, error prev/linear/new: 83.973/0.000/47.501, rel reduction: 0.43433\n",
      "[2023-05-31 16:42:32.662] [info] LM<sym::Optimize> [iter    5] lambda: 9.766e-04, error prev/linear/new: 47.501/0.000/47.030, rel reduction: 0.00992\n",
      "[2023-05-31 16:42:32.666] [info] LM<sym::Optimize> [iter    6] lambda: 2.441e-04, error prev/linear/new: 47.030/0.000/47.030, rel reduction: 0.00001\n",
      "[2023-05-31 16:42:32.671] [info] LM<sym::Optimize> [iter    7] lambda: 6.104e-05, error prev/linear/new: 47.030/0.000/47.030, rel reduction: 0.00000\n"
     ]
    },
    {
     "data": {
      "text/plain": [
       "array([0.8250929 , 2.23868688, 0.92787156])"
      ]
     },
     "execution_count": 6,
     "metadata": {},
     "output_type": "execute_result"
    }
   ],
   "source": [
    "optimizer = Optimizer(\n",
    "    factors=factors,\n",
    "    optimized_keys=[\"abc\"],\n",
    "    debug_stats=True,\n",
    "    params=Optimizer.Params(iterations=1000)\n",
    ")\n",
    "result = optimizer.optimize(initial_values)\n",
    "result.optimized_values.get('abc')"
   ]
  },
  {
   "cell_type": "code",
   "execution_count": 7,
   "metadata": {},
   "outputs": [],
   "source": [
    "a, b, c = result.optimized_values.get('abc')\n",
    "y_cal = np.exp(a * x_data * x_data + b * x_data + c)\n",
    "y_gt = np.exp(ar * x_data * x_data + br * x_data + cr)"
   ]
  },
  {
   "cell_type": "code",
   "execution_count": 8,
   "metadata": {},
   "outputs": [
    {
     "name": "stderr",
     "output_type": "stream",
     "text": [
      "qt5ct: using qt5ct plugin\n"
     ]
    }
   ],
   "source": [
    "import matplotlib.pyplot as plt\n",
    "%matplotlib qt\n",
    "plt.plot(x_data, y_data, '.')\n",
    "plt.plot(x_data, y_cal)\n",
    "plt.plot(x_data, y_gt)\n",
    "plt.show()"
   ]
  }
 ],
 "metadata": {
  "interpreter": {
   "hash": "916dbcbb3f70747c44a77c7bcd40155683ae19c65e1c03b4aa3499c5328201f1"
  },
  "kernelspec": {
   "display_name": "Python 3.8.10 64-bit",
   "language": "python",
   "name": "python3"
  },
  "language_info": {
   "codemirror_mode": {
    "name": "ipython",
    "version": 3
   },
   "file_extension": ".py",
   "mimetype": "text/x-python",
   "name": "python",
   "nbconvert_exporter": "python",
   "pygments_lexer": "ipython3",
   "version": "3.8.10"
  },
  "orig_nbformat": 4
 },
 "nbformat": 4,
 "nbformat_minor": 2
}
