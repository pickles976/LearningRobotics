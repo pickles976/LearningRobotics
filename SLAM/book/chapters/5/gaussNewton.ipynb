{
 "cells": [
  {
   "cell_type": "code",
   "execution_count": 1,
   "metadata": {},
   "outputs": [],
   "source": [
    "import random\n",
    "from math import exp\n",
    "import numpy as np\n",
    "from scipy import linalg"
   ]
  },
  {
   "cell_type": "code",
   "execution_count": 4,
   "metadata": {},
   "outputs": [],
   "source": [
    "# ground truth coefficients\n",
    "ar = 1.0\n",
    "br = 2.0\n",
    "cr = 1.0\n",
    "\n",
    "# initial estimates\n",
    "ae = 2.0\n",
    "be = -1.0\n",
    "ce = 5.0\n",
    "\n",
    "# number of data points\n",
    "N = 100\n",
    "\n",
    "w_sigma = 1.0 # noise sigma\n",
    "inv_sigma = 1.0 # w_sigma\n",
    "sig_sq = inv_sigma ** 2\n",
    "\n",
    "# create data\n",
    "x_data, y_data = [], []\n",
    "for i in range(N):\n",
    "    x = i / 100.0\n",
    "    x_data.append(x)\n",
    "    y_data.append(exp(ar * x ** 2 + br * x + cr) + random.gauss(0, w_sigma ** 2))"
   ]
  },
  {
   "cell_type": "code",
   "execution_count": 9,
   "metadata": {},
   "outputs": [
    {
     "name": "stdout",
     "output_type": "stream",
     "text": [
      "total cost: 35629.477431077146\n",
      "update: [[-0.0591923   0.59830553 -0.89830097]]\n",
      "estimated params: [2.04991737], [-0.10373918], [2.15836817]\n",
      "total cost: 2150.4571530314383\n",
      "update: [[-0.48549784  1.13308559 -0.73492349]]\n",
      "estimated params: [1.56441953], [1.02934641], [1.42344468]\n",
      "total cost: 146.03432357271265\n",
      "update: [[-0.48447287  0.82982363 -0.35780673]]\n",
      "estimated params: [1.07994665], [1.85917004], [1.06563794]\n",
      "total cost: 79.88425064973343\n",
      "update: [[-0.06990631  0.11323037 -0.04475417]]\n",
      "estimated params: [1.01004034], [1.97240041], [1.02088377]\n",
      "total cost: 79.3299276553055\n",
      "update: [[ 0.00058146 -0.0007521   0.00019878]]\n",
      "estimated params: [1.0106218], [1.97164832], [1.02108255]\n",
      "total cost: 79.32990202569955\n",
      "update: [[-7.47818214e-06  1.15071763e-05 -4.20535872e-06]]\n",
      "estimated params: [1.01061432], [1.97165983], [1.02107835]\n",
      "total cost: 79.32990202117965\n",
      "update: [[-2.30998616e-07  3.16659562e-07 -9.69559630e-08]]\n",
      "estimated params: [1.01061409], [1.97166014], [1.02107825]\n",
      "Cost: 79.32990202118279 last cost: 79.32990202117965, iter: 7, break.\n",
      "estimated abc = [1.01061409], [1.97166014], [1.02107825]\n"
     ]
    }
   ],
   "source": [
    "# Start Gauss-Newton iterations\n",
    "iterations = 100\n",
    "cost = 0\n",
    "lastCost = 0\n",
    "\n",
    "for iters in range(iterations):\n",
    "    H = np.zeros((3, 3))  # Hessian = J^T W^-1 J in Gauss-Newton\n",
    "    b = np.zeros((3, 1))\n",
    "    cost = 0\n",
    "\n",
    "    for i in range(N):\n",
    "        xi = x_data[i]\n",
    "        yi = y_data[i]\n",
    "\n",
    "        fun = exp((ae * xi ** 2) + (be * xi) + ce) # function, repeated b/c of chain rule, DRY\n",
    "        error = yi - fun\n",
    "        deda = -xi * xi * fun\n",
    "        dedb = -xi * fun\n",
    "        dedc = -fun\n",
    "        J = np.array([deda, dedb, dedc], dtype = np.float32).reshape((3,1))\n",
    "\n",
    "        H += sig_sq * J * J.T\n",
    "        b += -sig_sq * error * J\n",
    "\n",
    "        cost += error ** 2\n",
    "\n",
    "    # Solve\n",
    "\n",
    "    dx = linalg.solve(H, b, assume_a='sym')\n",
    "\n",
    "    if dx[0] is np.NAN:\n",
    "        print(\"Result is NaN!\")\n",
    "        break\n",
    "\n",
    "    if iters > 0 and cost >= lastCost:\n",
    "        print(f\"Cost: {cost} last cost: {lastCost}, iter: {iters}, break.\")\n",
    "        break\n",
    "\n",
    "\n",
    "    ae += dx[0]\n",
    "    be += dx[1]\n",
    "    ce += dx[2]\n",
    "\n",
    "    lastCost = cost\n",
    "\n",
    "    print(f\"total cost: {cost}\\nupdate: {dx.transpose()}\\n\"\n",
    "            f\"estimated params: {ae}, {be}, {ce}\")\n",
    "            \n",
    "print(f\"estimated abc = {ae}, {be}, {ce}\")"
   ]
  }
 ],
 "metadata": {
  "interpreter": {
   "hash": "916dbcbb3f70747c44a77c7bcd40155683ae19c65e1c03b4aa3499c5328201f1"
  },
  "kernelspec": {
   "display_name": "Python 3.8.10 64-bit",
   "language": "python",
   "name": "python3"
  },
  "language_info": {
   "codemirror_mode": {
    "name": "ipython",
    "version": 3
   },
   "file_extension": ".py",
   "mimetype": "text/x-python",
   "name": "python",
   "nbconvert_exporter": "python",
   "pygments_lexer": "ipython3",
   "version": "3.8.10"
  },
  "orig_nbformat": 4
 },
 "nbformat": 4,
 "nbformat_minor": 2
}
